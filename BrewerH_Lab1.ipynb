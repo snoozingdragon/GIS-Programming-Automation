{
 "cells": [
  {
   "cell_type": "code",
   "execution_count": 1,
   "id": "11e96346-1f13-417c-9ef3-9136ca97e6d0",
   "metadata": {},
   "outputs": [],
   "source": [
    "import geopandas as gpd\n",
    "import pandas as pd\n",
    "import fiona"
   ]
  },
  {
   "cell_type": "code",
   "execution_count": 2,
   "id": "1fdf20dd-f329-4a7e-b8ce-44eab1543728",
   "metadata": {},
   "outputs": [
    {
     "name": "stdout",
     "output_type": "stream",
     "text": [
      "['soilmu_a_co001', 'soilmu_a_co618', 'soilmu_a_co641', 'soilmu_a_co642', 'soilmu_a_co643', 'soilmu_a_co644', 'soilmu_a_co645', 'soilmu_a_co651', 'soilmu_a_co653', 'wbdhu8_lab1', 'muaggatt_co001', 'muaggatt_co618', 'muaggatt_co641', 'muaggatt_co642', 'muaggatt_co643', 'muaggatt_co644', 'muaggatt_co645', 'muaggatt_co651', 'muaggatt_co653']\n"
     ]
    }
   ],
   "source": [
    "soils = gpd.read_file('D:\\PythonProgramming\\lab1.gpkg')\n",
    "layers = fiona.listlayers('D:\\PythonProgramming\\lab1.gpkg')\n",
    "print(layers)"
   ]
  },
  {
   "cell_type": "code",
   "execution_count": 3,
   "id": "99c430ee-995d-43dc-b83c-8999d6d971e3",
   "metadata": {},
   "outputs": [],
   "source": [
    "polygons = [] \n",
    "tables = []\n",
    "\n",
    "for layer_name in layers:\n",
    "    if layer_name.startswith('soilmu'):\n",
    "        polygons.append(layer_name)\n",
    "for layer_name in layers:\n",
    "    if layer_name.startswith('muaggatt'):\n",
    "        tables.append(layer_name)\n",
    "#seperated the shapefiles from the attribute tables"
   ]
  },
  {
   "cell_type": "code",
   "execution_count": 4,
   "id": "b71ac409-2788-4c8e-9233-3e008e89e034",
   "metadata": {},
   "outputs": [
    {
     "name": "stdout",
     "output_type": "stream",
     "text": [
      "soilmu_a_co001 muaggatt_co001\n",
      "soilmu_a_co618 muaggatt_co618\n",
      "soilmu_a_co641 muaggatt_co641\n",
      "soilmu_a_co642 muaggatt_co642\n",
      "soilmu_a_co643 muaggatt_co643\n",
      "soilmu_a_co644 muaggatt_co644\n",
      "soilmu_a_co645 muaggatt_co645\n",
      "soilmu_a_co651 muaggatt_co651\n",
      "soilmu_a_co653 muaggatt_co653\n"
     ]
    }
   ],
   "source": [
    "for spatial in polygons:\n",
    "    layer_id = spatial [-5:]\n",
    "    for table in tables:\n",
    "        if table[-5:] == layer_id:\n",
    "            print(spatial, table)\n",
    "# matched the layers based on their layer ID"
   ]
  },
  {
   "cell_type": "code",
   "execution_count": 5,
   "id": "4b6402e3-a274-4517-80a6-7c3107b3e577",
   "metadata": {},
   "outputs": [],
   "source": [
    "result = []\n",
    "joined_list=[]\n",
    "for spatial in polygons:\n",
    "    for table in tables:\n",
    "        if spatial [-5:] == table [-5:]:\n",
    "            p = gpd.read_file('D:\\PythonProgramming\\lab1.gpkg', layer= spatial)\n",
    "            t = gpd.read_file('D:\\PythonProgramming\\lab1.gpkg', layer= table)\n",
    "            t = t.drop(columns = 'geometry')\n",
    "            result= pd.merge (left = p, right =t, left_on='MUSYM', right_on='musym')\n",
    "            result['mapunit'] = (table[-5:]) \n",
    "            joined_list.append(result)\n",
    "final = pd.concat(joined_list, axis = 0)"
   ]
  },
  {
   "cell_type": "code",
   "execution_count": 6,
   "id": "f023bf60-7c96-4806-9770-249e5fa9b1df",
   "metadata": {},
   "outputs": [
    {
     "name": "stdout",
     "output_type": "stream",
     "text": [
      "     SPATIALVER MUSYM   MUKEY  Shape_Length  Shape_Area  \\\n",
      "0           4.0   AaB   94035      0.010144    0.000004   \n",
      "1           4.0   AaB   94035      0.011057    0.000004   \n",
      "2           4.0   AaB   94035      0.010620    0.000005   \n",
      "3           4.0   AaB   94035      0.015856    0.000013   \n",
      "4           4.0   AaB   94035      0.025435    0.000025   \n",
      "..          ...   ...     ...           ...         ...   \n",
      "405         3.0    49  512721      0.013377    0.000009   \n",
      "406         3.0    15  512687      0.057632    0.000130   \n",
      "407         3.0    11  512683      0.072986    0.000325   \n",
      "408         3.0    26  512698      0.030541    0.000027   \n",
      "409         3.0    64  512736      0.012214    0.000007   \n",
      "\n",
      "                                              geometry musym aws025wta  \\\n",
      "0    MULTIPOLYGON (((-104.42220 39.93400, -104.4248...   AaB      4.15   \n",
      "1    MULTIPOLYGON (((-104.27200 39.78590, -104.2749...   AaB      4.15   \n",
      "2    MULTIPOLYGON (((-104.34210 39.89100, -104.3428...   AaB      4.15   \n",
      "3    MULTIPOLYGON (((-104.28820 39.84590, -104.2850...   AaB      4.15   \n",
      "4    MULTIPOLYGON (((-104.28650 39.83190, -104.2835...   AaB      4.15   \n",
      "..                                                 ...   ...       ...   \n",
      "405  MULTIPOLYGON (((-105.69790 39.71160, -105.6983...    49      0.31   \n",
      "406  MULTIPOLYGON (((-105.40050 39.74290, -105.3984...    15      0.73   \n",
      "407  MULTIPOLYGON (((-105.40660 39.80960, -105.4068...    11      1.27   \n",
      "408  MULTIPOLYGON (((-105.40340 39.71500, -105.3998...    26      2.29   \n",
      "409  MULTIPOLYGON (((-105.68880 39.72850, -105.6923...    64       3.8   \n",
      "\n",
      "    aws0150wta    drclassdcd mapunit  \n",
      "0         25.4  Well drained   co001  \n",
      "1         25.4  Well drained   co001  \n",
      "2         25.4  Well drained   co001  \n",
      "3         25.4  Well drained   co001  \n",
      "4         25.4  Well drained   co001  \n",
      "..         ...           ...     ...  \n",
      "405       1.28          None   co653  \n",
      "406        2.3  Well drained   co653  \n",
      "407        8.1  Well drained   co653  \n",
      "408      14.11  Well drained   co653  \n",
      "409       11.6          None   co653  \n",
      "\n",
      "[17468 rows x 11 columns]\n"
     ]
    }
   ],
   "source": [
    "print(final)"
   ]
  },
  {
   "cell_type": "code",
   "execution_count": 7,
   "id": "5f9e1baa-ea11-4e1f-984d-d2cd8b659b8c",
   "metadata": {},
   "outputs": [],
   "source": [
    "wbd= gpd.read_file('D:\\PythonProgramming\\lab1.gpkg', layer = 'wbdhu8_lab1')"
   ]
  },
  {
   "cell_type": "code",
   "execution_count": 8,
   "id": "5dff3ea2-6f16-4952-92a5-d3ba53d4d2af",
   "metadata": {},
   "outputs": [],
   "source": [
    "intersect = gpd.sjoin(wbd,final, op='intersects', how='left')"
   ]
  },
  {
   "cell_type": "code",
   "execution_count": 9,
   "id": "79116a43-4e1f-43e3-9618-aacd56048944",
   "metadata": {},
   "outputs": [
    {
     "name": "stdout",
     "output_type": "stream",
     "text": [
      "              STATES  Shape_Length_left  Shape_Area_left  HUC8  geometry  \\\n",
      "NAME                                                                       \n",
      "Big Thompson    1979               1979             1979  1979      1979   \n",
      "St. Vrain       2073               2073             2073  2073      2073   \n",
      "\n",
      "              index_right  SPATIALVER  MUSYM  MUKEY  Shape_Length_right  \\\n",
      "NAME                                                                      \n",
      "Big Thompson         1979        1979   1979   1979                1979   \n",
      "St. Vrain            2073        2073   2073   2073                2073   \n",
      "\n",
      "              Shape_Area_right  musym  aws025wta  aws0150wta  drclassdcd  \\\n",
      "NAME                                                                       \n",
      "Big Thompson              1979   1979       1979        1979        1898   \n",
      "St. Vrain                 2073   2073       2073        2073        1980   \n",
      "\n",
      "              mapunit  \n",
      "NAME                   \n",
      "Big Thompson     1979  \n",
      "St. Vrain        2073  \n"
     ]
    }
   ],
   "source": [
    "print(intersect.groupby(by = 'NAME').count())"
   ]
  },
  {
   "cell_type": "raw",
   "id": "1c98d398-0e5d-4ffe-a9b4-3cd86e02caa4",
   "metadata": {},
   "source": []
  }
 ],
 "metadata": {
  "kernelspec": {
   "display_name": "Python 3 (ipykernel)",
   "language": "python",
   "name": "python3"
  },
  "language_info": {
   "codemirror_mode": {
    "name": "ipython",
    "version": 3
   },
   "file_extension": ".py",
   "mimetype": "text/x-python",
   "name": "python",
   "nbconvert_exporter": "python",
   "pygments_lexer": "ipython3",
   "version": "3.7.10"
  }
 },
 "nbformat": 4,
 "nbformat_minor": 5
}
